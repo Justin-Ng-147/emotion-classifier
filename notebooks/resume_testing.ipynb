{
 "cells": [
  {
   "cell_type": "code",
   "execution_count": 32,
   "metadata": {},
   "outputs": [],
   "source": [
    "import pandas as pd\n",
    "from datasets import load_dataset\n",
    "import numpy as np\n",
    "from nltk.corpus import stopwords"
   ]
  },
  {
   "cell_type": "code",
   "execution_count": 33,
   "metadata": {},
   "outputs": [],
   "source": [
    "cachedStopWords = set(stopwords.words(\"english\"))"
   ]
  },
  {
   "cell_type": "code",
   "execution_count": 34,
   "metadata": {},
   "outputs": [
    {
     "name": "stdout",
     "output_type": "stream",
     "text": [
      "<class 'pandas.core.frame.DataFrame'>\n",
      "RangeIndex: 416809 entries, 0 to 416808\n",
      "Data columns (total 2 columns):\n",
      " #   Column  Non-Null Count   Dtype \n",
      "---  ------  --------------   ----- \n",
      " 0   text    416809 non-null  object\n",
      " 1   label   416809 non-null  int64 \n",
      "dtypes: int64(1), object(1)\n",
      "memory usage: 6.4+ MB\n"
     ]
    }
   ],
   "source": [
    "data = load_dataset(\"dair-ai/emotion\",\"unsplit\",trust_remote_code=True)\n",
    "df = data['train'].to_pandas()\n",
    "df.info()"
   ]
  },
  {
   "cell_type": "code",
   "execution_count": 35,
   "metadata": {},
   "outputs": [
    {
     "name": "stdout",
     "output_type": "stream",
     "text": [
      "max len : 830\n",
      "total number of characters : 40442309\n",
      "avg number of characters per comment: 97.02839669968739\n"
     ]
    }
   ],
   "source": [
    "old_len = df.text.map(len).max()\n",
    "old_total = sum(df.text.map(len))\n",
    "old_avg = sum(df.text.map(len))/416809\n",
    "print(\"max len : {}\".format(old_len))\n",
    "print(\"total number of characters : {}\".format(old_total))\n",
    "print(\"avg number of characters per comment: {}\".format(old_avg))"
   ]
  },
  {
   "cell_type": "code",
   "execution_count": 36,
   "metadata": {},
   "outputs": [],
   "source": [
    "df['text'] = df['text'].str.replace(r'http\\S+', '', regex=True)\n",
    "df['text'] = df['text'].str.replace(r'[^\\w\\s]', '', regex=True)\n",
    "df['text'] = df['text'].str.replace(r'\\s+', ' ', regex=True)\n",
    "df['text'] = df['text'].str.replace(r'\\d+', '', regex=True)\n",
    "df['text'] = df['text'].str.lower()\n",
    "cachedStopWords = set(stopwords.words(\"english\"))\n",
    "df[\"text\"] = df['text'].apply(lambda x: ' '.join([word for word in x.split() if word not in cachedStopWords]))\n",
    "df['text'] = df['text'].str.replace(r'[^a-zA-Z\\s]', '',regex=True)"
   ]
  },
  {
   "cell_type": "code",
   "execution_count": 40,
   "metadata": {},
   "outputs": [
    {
     "name": "stdout",
     "output_type": "stream",
     "text": [
      "max len : 474\n",
      "total number of characters : 25724033\n",
      "avg number of characters per comment: 61.71659681052952\n",
      "\n",
      "max len is %0.42891566265060244 smaller\n",
      "total number of characters is %0.36393263302547835 smaller\n",
      "avg characters is %0.36393263302547835 smaller\n"
     ]
    }
   ],
   "source": [
    "new_len = df.text.map(len).max()\n",
    "new_total = sum(df.text.map(len))\n",
    "new_avg = sum(df.text.map(len))/416809\n",
    "print(\"max len : {}\".format(new_len))\n",
    "print(\"total number of characters : {}\".format(new_total))\n",
    "print(\"avg number of characters per comment: {}\\n\".format(new_avg))\n",
    "print(\"max len is %{} smaller\".format((old_len-new_len)/old_len))\n",
    "print(\"total number of characters is %{} smaller\".format((old_total-new_total)/old_total))\n",
    "print(\"avg characters is %{} smaller\".format((old_avg-new_avg)/old_avg))"
   ]
  },
  {
   "cell_type": "code",
   "execution_count": 38,
   "metadata": {},
   "outputs": [
    {
     "data": {
      "text/plain": [
       "356"
      ]
     },
     "execution_count": 38,
     "metadata": {},
     "output_type": "execute_result"
    }
   ],
   "source": [
    "old_len-new_len"
   ]
  },
  {
   "cell_type": "code",
   "execution_count": null,
   "metadata": {},
   "outputs": [],
   "source": []
  }
 ],
 "metadata": {
  "kernelspec": {
   "display_name": ".venv",
   "language": "python",
   "name": "python3"
  },
  "language_info": {
   "codemirror_mode": {
    "name": "ipython",
    "version": 3
   },
   "file_extension": ".py",
   "mimetype": "text/x-python",
   "name": "python",
   "nbconvert_exporter": "python",
   "pygments_lexer": "ipython3",
   "version": "3.9.13"
  }
 },
 "nbformat": 4,
 "nbformat_minor": 2
}
